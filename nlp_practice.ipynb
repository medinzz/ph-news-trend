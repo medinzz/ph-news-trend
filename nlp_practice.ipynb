{
 "cells": [
  {
   "cell_type": "markdown",
   "id": "ef2edbe9",
   "metadata": {},
   "source": [
    "# Practicing NLP basics in part of making the trend analysis\n",
    "\n",
    "this notebook will be the progress of the major component of the project which is the trend analysis. We'll start from scratch!"
   ]
  },
  {
   "cell_type": "markdown",
   "id": "ee85f562",
   "metadata": {},
   "source": [
    "### Getting the raw data from database."
   ]
  },
  {
   "cell_type": "code",
   "execution_count": null,
   "id": "e1ab0eb9",
   "metadata": {},
   "outputs": [],
   "source": [
    "from collections import Counter\n",
    "from util.sqlite import SQLiteConnection\n",
    "\n",
    "\n",
    "sqlite = SQLiteConnection('articles.db', 'articles')\n",
    "\n",
    "data = sqlite.fetch_all('''\n",
    "SELECT\n",
    "    id,\n",
    "    title,\n",
    "    content,\n",
    "    date\n",
    "FROM articles\n",
    "''')"
   ]
  },
  {
   "cell_type": "markdown",
   "id": "2e251a6c",
   "metadata": {},
   "source": [
    "# Tokenizing each article contents."
   ]
  },
  {
   "cell_type": "code",
   "execution_count": null,
   "id": "78049b8d",
   "metadata": {},
   "outputs": [],
   "source": [
    "from nltk import word_tokenize\n",
    "from nltk.corpus import stopwords\n",
    "from nltk.stem import WordNetLemmatizer\n",
    "import nltk\n",
    "nltk.download('wordnet')\n",
    "nltk.download('stopwords')\n",
    "\n",
    "lemmatizer = WordNetLemmatizer()\n",
    "\n",
    "\n",
    "article_tokens = [\n",
    "    {\n",
    "        'id': id,\n",
    "        'title': title,\n",
    "        'tokens': Counter([lemmatizer.lemmatize(t.lower()) \\\n",
    "                           for t in word_tokenize(content) \\\n",
    "                           if t.isalpha() and t not in stopwords.words('english')]),\n",
    "        'date': date\n",
    "    }\n",
    "    for id, title, content, date in data\n",
    "]\n",
    "\n",
    "print(article_tokens[0]['tokens'].most_common(10))"
   ]
  }
 ],
 "metadata": {
  "kernelspec": {
   "display_name": "Python 3",
   "language": "python",
   "name": "python3"
  },
  "language_info": {
   "codemirror_mode": {
    "name": "ipython",
    "version": 3
   },
   "file_extension": ".py",
   "mimetype": "text/x-python",
   "name": "python",
   "nbconvert_exporter": "python",
   "pygments_lexer": "ipython3",
   "version": "3.12.1"
  }
 },
 "nbformat": 4,
 "nbformat_minor": 5
}
