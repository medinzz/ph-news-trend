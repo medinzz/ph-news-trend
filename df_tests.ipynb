{
 "cells": [
  {
   "cell_type": "code",
   "execution_count": 18,
   "id": "915ff042",
   "metadata": {},
   "outputs": [],
   "source": [
    "\n",
    "import json\n",
    "import pandas as pd\n",
    "from urllib.parse import urlparse\n",
    "\n",
    "def extract_parts(url):\n",
    "    parsed = urlparse(url)\n",
    "    # Extract subdomain (e.g., 'pop', 'globalnation', 'business')\n",
    "    subdomain = parsed.netloc.split('.')[0]\n",
    "    origin = parsed.netloc.split('.')[1] if len(parsed.netloc.split('.')) > 1 else ''\n",
    "\n",
    "    # Split the path: ['', 'article_id', 'article-slug']\n",
    "    path_parts = parsed.path.strip('/').split('/', 1)\n",
    "\n",
    "    article_id = path_parts[0] if path_parts else ''\n",
    "    slug = path_parts[1] if len(path_parts) > 1 else ''\n",
    "\n",
    "    return {\n",
    "        'subdomain': subdomain,\n",
    "        'origin': origin,\n",
    "        'article_id': article_id,\n",
    "        'slug': slug\n",
    "    }\n",
    "\n",
    "# Step 1: Load the JSON file\n",
    "with open('news_articles.json', 'r') as f:\n",
    "    data = json.load(f)\n",
    "\n",
    "# Step 2: Flatten the structure\n",
    "records = []\n",
    "for category, dates in data.items():\n",
    "    for date, urls in dates.items():\n",
    "        for url in urls:\n",
    "            records.append({\n",
    "                'category': category,\n",
    "                'date': date,\n",
    "                'url': url\n",
    "            })\n",
    "\n",
    "# Step 3: Convert to DataFrame\n",
    "df = pd.DataFrame(records)\n",
    "\n",
    "# Optional: Convert date column to datetime type\n",
    "df['date'] = pd.to_datetime(df['date'], format='%Y-%m-%d')\n",
    "\n",
    "df['id'] = df['url'].apply(lambda x: extract_parts(x)['subdomain'] + ':' + extract_parts(x)['article_id'] + ':' + extract_parts(x)['slug'])\n"
   ]
  },
  {
   "cell_type": "code",
   "execution_count": 19,
   "id": "cba6fba6",
   "metadata": {},
   "outputs": [
    {
     "name": "stderr",
     "output_type": "stream",
     "text": [
      "INFO - Table `articles` in dataset `ph_news` updated with mode `append`.\n"
     ]
    }
   ],
   "source": [
    "from util.biquery import create_or_update_table\n",
    "\n",
    "create_or_update_table(\n",
    "    df,\n",
    "    'ph_news',\n",
    "    'articles'\n",
    ")"
   ]
  }
 ],
 "metadata": {
  "kernelspec": {
   "display_name": "env",
   "language": "python",
   "name": "env"
  },
  "language_info": {
   "codemirror_mode": {
    "name": "ipython",
    "version": 3
   },
   "file_extension": ".py",
   "mimetype": "text/x-python",
   "name": "python",
   "nbconvert_exporter": "python",
   "pygments_lexer": "ipython3",
   "version": "3.10.12"
  }
 },
 "nbformat": 4,
 "nbformat_minor": 5
}
