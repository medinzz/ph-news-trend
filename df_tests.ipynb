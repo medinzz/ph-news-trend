{
 "cells": [
  {
   "cell_type": "code",
   "execution_count": 14,
   "id": "9208894b",
   "metadata": {},
   "outputs": [],
   "source": [
    "import json\n",
    "import pandas as pd"
   ]
  },
  {
   "cell_type": "code",
   "execution_count": null,
   "id": "915ff042",
   "metadata": {},
   "outputs": [],
   "source": [
    "\n",
    "from util.tools import parse_inq_art_url\n",
    "\n",
    "# Step 1: Load the JSON file\n",
    "with open('news_articles.json', 'r') as f:\n",
    "    data = json.load(f)\n",
    "\n",
    "# Step 2: Flatten the structure\n",
    "records = []\n",
    "for category, dates in data.items():\n",
    "    for date, urls in dates.items():\n",
    "        for url in urls:\n",
    "            records.append({\n",
    "                'category': category,\n",
    "                'date': date,\n",
    "                'url': url\n",
    "            })\n",
    "\n",
    "# Step 3: Convert to DataFrame\n",
    "df = pd.DataFrame(records)\n",
    "\n",
    "# Optional: Convert date column to datetime type\n",
    "df['date'] = pd.to_datetime(df['date'], format='%Y-%m-%d')\n",
    "\n",
    "df['id'] = df['url'].apply(lambda x: parse_inq_art_url(x)['subdomain'] + ':' + parse_inq_art_url(x)['article_id'] + ':' + parse_inq_art_url(x)['slug'])\n"
   ]
  },
  {
   "cell_type": "code",
   "execution_count": 19,
   "id": "cba6fba6",
   "metadata": {},
   "outputs": [
    {
     "name": "stderr",
     "output_type": "stream",
     "text": [
      "INFO - Table `articles` in dataset `ph_news` updated with mode `append`.\n"
     ]
    }
   ],
   "source": [
    "from util.biquery import create_or_update_table\n",
    "\n",
    "create_or_update_table(\n",
    "    df,\n",
    "    'ph_news',\n",
    "    'articles'\n",
    ")"
   ]
  },
  {
   "cell_type": "code",
   "execution_count": 28,
   "id": "245d16b5",
   "metadata": {},
   "outputs": [
    {
     "name": "stdout",
     "output_type": "stream",
     "text": [
      "[]\n"
     ]
    }
   ],
   "source": [
    "df = pd.read_csv('article_content.csv')\n",
    "\n",
    "print(df[df['date_time'].isna()]['url'].unique())"
   ]
  }
 ],
 "metadata": {
  "kernelspec": {
   "display_name": "Python 3",
   "language": "python",
   "name": "python3"
  },
  "language_info": {
   "codemirror_mode": {
    "name": "ipython",
    "version": 3
   },
   "file_extension": ".py",
   "mimetype": "text/x-python",
   "name": "python",
   "nbconvert_exporter": "python",
   "pygments_lexer": "ipython3",
   "version": "3.12.1"
  }
 },
 "nbformat": 4,
 "nbformat_minor": 5
}
